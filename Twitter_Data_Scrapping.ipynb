{
  "nbformat": 4,
  "nbformat_minor": 0,
  "metadata": {
    "colab": {
      "provenance": [],
      "authorship_tag": "ABX9TyOXkdT/noEXaBXvwU/4hMbo",
      "include_colab_link": true
    },
    "kernelspec": {
      "name": "python3",
      "display_name": "Python 3"
    },
    "language_info": {
      "name": "python"
    }
  },
  "cells": [
    {
      "cell_type": "markdown",
      "metadata": {
        "id": "view-in-github",
        "colab_type": "text"
      },
      "source": [
        "<a href=\"https://colab.research.google.com/github/SowmyaaKarthik/Twitter-DataSet-Using-Snscrape-Streamlit/blob/main/Twitter_Data_Scrapping.ipynb\" target=\"_parent\"><img src=\"https://colab.research.google.com/assets/colab-badge.svg\" alt=\"Open In Colab\"/></a>"
      ]
    },
    {
      "cell_type": "code",
      "execution_count": 1,
      "metadata": {
        "colab": {
          "base_uri": "https://localhost:8080/"
        },
        "id": "o8OruLbu2jzh",
        "outputId": "74042beb-c29a-40bd-e37b-3d19b3ff8dce"
      },
      "outputs": [
        {
          "output_type": "stream",
          "name": "stdout",
          "text": [
            "Looking in indexes: https://pypi.org/simple, https://us-python.pkg.dev/colab-wheels/public/simple/\n",
            "Collecting snscrape\n",
            "  Downloading snscrape-0.5.0.20230113-py3-none-any.whl (69 kB)\n",
            "\u001b[2K     \u001b[90m━━━━━━━━━━━━━━━━━━━━━━━━━━━━━━━━━━━━━━━━\u001b[0m \u001b[32m69.2/69.2 KB\u001b[0m \u001b[31m2.9 MB/s\u001b[0m eta \u001b[36m0:00:00\u001b[0m\n",
            "\u001b[?25hRequirement already satisfied: pytz in /usr/local/lib/python3.8/dist-packages (from snscrape) (2022.7)\n",
            "Requirement already satisfied: filelock in /usr/local/lib/python3.8/dist-packages (from snscrape) (3.9.0)\n",
            "Requirement already satisfied: beautifulsoup4 in /usr/local/lib/python3.8/dist-packages (from snscrape) (4.6.3)\n",
            "Requirement already satisfied: lxml in /usr/local/lib/python3.8/dist-packages (from snscrape) (4.9.2)\n",
            "Requirement already satisfied: requests[socks] in /usr/local/lib/python3.8/dist-packages (from snscrape) (2.25.1)\n",
            "Requirement already satisfied: idna<3,>=2.5 in /usr/local/lib/python3.8/dist-packages (from requests[socks]->snscrape) (2.10)\n",
            "Requirement already satisfied: chardet<5,>=3.0.2 in /usr/local/lib/python3.8/dist-packages (from requests[socks]->snscrape) (4.0.0)\n",
            "Requirement already satisfied: certifi>=2017.4.17 in /usr/local/lib/python3.8/dist-packages (from requests[socks]->snscrape) (2022.12.7)\n",
            "Requirement already satisfied: urllib3<1.27,>=1.21.1 in /usr/local/lib/python3.8/dist-packages (from requests[socks]->snscrape) (1.24.3)\n",
            "Requirement already satisfied: PySocks!=1.5.7,>=1.5.6 in /usr/local/lib/python3.8/dist-packages (from requests[socks]->snscrape) (1.7.1)\n",
            "Installing collected packages: snscrape\n",
            "Successfully installed snscrape-0.5.0.20230113\n"
          ]
        }
      ],
      "source": [
        "!pip install snscrape"
      ]
    },
    {
      "cell_type": "code",
      "source": [
        "!pip install langcodes[data]"
      ],
      "metadata": {
        "colab": {
          "base_uri": "https://localhost:8080/"
        },
        "id": "cTfyudWf235W",
        "outputId": "53f237b4-2102-4029-8d61-51812d91a371"
      },
      "execution_count": 2,
      "outputs": [
        {
          "output_type": "stream",
          "name": "stdout",
          "text": [
            "Looking in indexes: https://pypi.org/simple, https://us-python.pkg.dev/colab-wheels/public/simple/\n",
            "Requirement already satisfied: langcodes[data] in /usr/local/lib/python3.8/dist-packages (3.3.0)\n",
            "Collecting language-data<2.0,>=1.1\n",
            "  Downloading language_data-1.1-py3-none-any.whl (4.9 MB)\n",
            "\u001b[2K     \u001b[90m━━━━━━━━━━━━━━━━━━━━━━━━━━━━━━━━━━━━━━━━\u001b[0m \u001b[32m4.9/4.9 MB\u001b[0m \u001b[31m43.0 MB/s\u001b[0m eta \u001b[36m0:00:00\u001b[0m\n",
            "\u001b[?25hCollecting marisa-trie<0.8.0,>=0.7.7\n",
            "  Downloading marisa_trie-0.7.8-cp38-cp38-manylinux_2_17_x86_64.manylinux2014_x86_64.whl (1.2 MB)\n",
            "\u001b[2K     \u001b[90m━━━━━━━━━━━━━━━━━━━━━━━━━━━━━━━━━━━━━━━━\u001b[0m \u001b[32m1.2/1.2 MB\u001b[0m \u001b[31m38.6 MB/s\u001b[0m eta \u001b[36m0:00:00\u001b[0m\n",
            "\u001b[?25hRequirement already satisfied: setuptools in /usr/local/lib/python3.8/dist-packages (from marisa-trie<0.8.0,>=0.7.7->language-data<2.0,>=1.1->langcodes[data]) (57.4.0)\n",
            "Installing collected packages: marisa-trie, language-data\n",
            "Successfully installed language-data-1.1 marisa-trie-0.7.8\n"
          ]
        }
      ]
    },
    {
      "cell_type": "code",
      "source": [
        "!pip install streamlit -q"
      ],
      "metadata": {
        "colab": {
          "base_uri": "https://localhost:8080/"
        },
        "id": "co6yDyVi3FRb",
        "outputId": "4e7049c9-928f-414d-eb74-1fce074e3ee0"
      },
      "execution_count": 3,
      "outputs": [
        {
          "output_type": "stream",
          "name": "stdout",
          "text": [
            "\u001b[2K     \u001b[90m━━━━━━━━━━━━━━━━━━━━━━━━━━━━━━━━━━━━━━━━\u001b[0m \u001b[32m9.3/9.3 MB\u001b[0m \u001b[31m59.5 MB/s\u001b[0m eta \u001b[36m0:00:00\u001b[0m\n",
            "\u001b[2K     \u001b[90m━━━━━━━━━━━━━━━━━━━━━━━━━━━━━━━━━━━━━━\u001b[0m \u001b[32m239.0/239.0 KB\u001b[0m \u001b[31m26.3 MB/s\u001b[0m eta \u001b[36m0:00:00\u001b[0m\n",
            "\u001b[2K     \u001b[90m━━━━━━━━━━━━━━━━━━━━━━━━━━━━━━━━━━━━━━\u001b[0m \u001b[32m164.8/164.8 KB\u001b[0m \u001b[31m15.3 MB/s\u001b[0m eta \u001b[36m0:00:00\u001b[0m\n",
            "\u001b[2K     \u001b[90m━━━━━━━━━━━━━━━━━━━━━━━━━━━━━━━━━━━━━━\u001b[0m \u001b[32m184.0/184.0 KB\u001b[0m \u001b[31m20.7 MB/s\u001b[0m eta \u001b[36m0:00:00\u001b[0m\n",
            "\u001b[?25h  Preparing metadata (setup.py) ... \u001b[?25l\u001b[?25hdone\n",
            "\u001b[2K     \u001b[90m━━━━━━━━━━━━━━━━━━━━━━━━━━━━━━━━━━━━━━━━\u001b[0m \u001b[32m4.7/4.7 MB\u001b[0m \u001b[31m92.2 MB/s\u001b[0m eta \u001b[36m0:00:00\u001b[0m\n",
            "\u001b[2K     \u001b[90m━━━━━━━━━━━━━━━━━━━━━━━━━━━━━━━━━━━━━━━━\u001b[0m \u001b[32m79.0/79.0 KB\u001b[0m \u001b[31m9.3 MB/s\u001b[0m eta \u001b[36m0:00:00\u001b[0m\n",
            "\u001b[2K     \u001b[90m━━━━━━━━━━━━━━━━━━━━━━━━━━━━━━━━━━━━━━━━\u001b[0m \u001b[32m62.7/62.7 KB\u001b[0m \u001b[31m7.3 MB/s\u001b[0m eta \u001b[36m0:00:00\u001b[0m\n",
            "\u001b[2K     \u001b[90m━━━━━━━━━━━━━━━━━━━━━━━━━━━━━━━━━━━━━━━━\u001b[0m \u001b[32m1.1/1.1 MB\u001b[0m \u001b[31m67.9 MB/s\u001b[0m eta \u001b[36m0:00:00\u001b[0m\n",
            "\u001b[2K     \u001b[90m━━━━━━━━━━━━━━━━━━━━━━━━━━━━━━━━━━━━━━━━\u001b[0m \u001b[32m84.5/84.5 KB\u001b[0m \u001b[31m9.5 MB/s\u001b[0m eta \u001b[36m0:00:00\u001b[0m\n",
            "\u001b[?25h  Building wheel for validators (setup.py) ... \u001b[?25l\u001b[?25hdone\n",
            "\u001b[31mERROR: pip's dependency resolver does not currently take into account all the packages that are installed. This behaviour is the source of the following dependency conflicts.\n",
            "ipython 7.9.0 requires jedi>=0.10, which is not installed.\u001b[0m\u001b[31m\n",
            "\u001b[0m"
          ]
        }
      ]
    },
    {
      "cell_type": "code",
      "source": [
        "from langcodes import * #for finding the language name from language codes\n",
        "import pandas as pd #for creating the dataframe\n",
        "import datetime #for finding the current timestamp\n",
        "import pytz\n",
        "import snscrape.modules.twitter as sntwitter #scrapping the twitter data"
      ],
      "metadata": {
        "id": "1Puh5Ly13AzY"
      },
      "execution_count": null,
      "outputs": []
    },
    {
      "cell_type": "code",
      "source": [
        "%%writefile function_file2.py\n",
        "\n",
        "\n",
        "\n",
        "from langcodes import * \n",
        "import pandas as pd \n",
        "import datetime \n",
        "from datetime import timedelta\n",
        "import snscrape.modules.twitter as sntwitter\n",
        "import json\n",
        "\n",
        "\n",
        "def scrap_datas(tag, from_date, to_date, lim):\n",
        "  query = f\"{tag} since:{from_date} until:{to_date}\"\n",
        "  limit = lim\n",
        "  d_tweets = []\n",
        "  scraper = sntwitter.TwitterSearchScraper(query)\n",
        "  for tweet in scraper.get_items():\n",
        "    if len(d_tweets) == lim:\n",
        "      break\n",
        "    else:\n",
        "      d_tweets.append([tweet.id,tweet.url,tweet.date,tweet.user.username,tweet.content,tweet.replyCount,tweet.retweetCount,tweet.lang,tweet.source, tweet.likeCount])\n",
        "\n",
        "  language_dict = {\"Unknown language [qst]\" : \"Twit-short txt\",\n",
        "                   \"Unknown language [qme]\" : \"Twit-media link\",\n",
        "                   \"Unknown language [qam]\" : \"Twit-mentions only\", \n",
        "                   \"Unknown language [qct]\" : \"Twit-cashtags\", \n",
        "                   \"Unknown language [qht]\" : \"Twit-hashtags\",\n",
        "                   \"Unknown language\" : \"Undefined language\"}\n",
        "\n",
        "  for i in d_tweets:\n",
        "    i[7] = Language.make(language=i[7]).display_name()\n",
        "\n",
        "  for i in d_tweets:\n",
        "    if i[7] in language_dict.keys():\n",
        "      i[7] = language_dict[i[7]]\n",
        "    else:\n",
        "      i[7] = i[7]\n",
        "\n",
        "  da = pd.DataFrame(d_tweets, columns = [\"Id\", \"URL\", \"Date posted\", \"User Name\", \"Content\", \"Reply count\", \"Retweet count\", \"Language\", \"Source\" , \"Like count\"])\n",
        "  da[\"Source\"] = da[\"Source\"].apply(lambda x:x.split(\"=\")[1].strip(\"rel\"))\n",
        "  da[\"Id\"] = da[\"Id\"].astype(\"str\")\n",
        "  return da\n",
        "\n",
        "def update_data(tag, df_name):\n",
        "  df_name[\"Date posted\"] = df_name[\"Date posted\"].apply(lambda x:(str(x)).split(\"+\")[0])\n",
        "  #Creating document of the fetched data\n",
        "  data_list = []\n",
        "  for i in range(df_name.shape[0]):\n",
        "    x = pd.DataFrame.to_json(df_name.iloc[i, :])\n",
        "    data_list.append(json.loads(x))\n",
        "\n",
        "  #connecting to the server\n",
        "  import pymongo\n",
        "  client = pymongo.MongoClient(\"mongodb://localhost:27017\")\n",
        "  db = client.Twitter_data\n",
        "  records = db.Twitter\n",
        "  #inserting document into the database\n",
        "  x = datetime.datetime.now()+timedelta(minutes = 330)\n",
        "  cur_tsr = str(x).split(\".\")[0]\n",
        "  htag = tag+\"_\"+cur_tsr\n",
        "  daata = {htag : data_list}\n",
        "  info = records.insert_one(daata)\n",
        "  if info != 0:\n",
        "    return \"Inserted succcessfully\"\n",
        "  elif info == 0:\n",
        "    return \"Something went wrong please try again\""
      ],
      "metadata": {
        "colab": {
          "base_uri": "https://localhost:8080/"
        },
        "id": "luGrJkeO3U6E",
        "outputId": "0cc540b6-8927-4bf1-e76d-f5f7eb91f547"
      },
      "execution_count": 10,
      "outputs": [
        {
          "output_type": "stream",
          "name": "stdout",
          "text": [
            "Overwriting function_file2.py\n"
          ]
        }
      ]
    },
    {
      "cell_type": "code",
      "source": [
        "%%writefile streamlit_app.py\n",
        "import json\n",
        "from function_file2 import  scrap_datas, update_data\n",
        "import streamlit as st\n",
        "\n",
        "\n",
        "st.markdown(\"TWEET SCRAPER\", unsafe_allow_html=True)\n",
        "hashtag = st.text_input('Enter your hashtag for search', '#')\n",
        "f_date = st.date_input('Enter your Start Date')\n",
        "from_date = str(f_date).replace(\"/\", \"-\")\n",
        "t_date = st.date_input('Enter your End Date')\n",
        "to_date = str(t_date).replace(\"/\", \"-\")\n",
        "limit = st.number_input('Set Limit', 10)\n",
        "if st.button(\"Display Data\"):\n",
        "  df = scrap_datas(hashtag, from_date, to_date, limit)\n",
        "  st.table(df)\n",
        "if st.button(\"Download Data\"):\n",
        "  df = scrap_datas(hashtag, from_date, to_date, limit)\n",
        "  df_c = df.copy()\n",
        "  df_c[\"Id\"] = df_c[\"Id\"].astype(\"str\")\n",
        "  df_csv = df_c.to_csv()\n",
        "  st.download_button(\"Download as CSV\",data = df_csv,file_name = f\"{hashtag}.csv\",mime='text/csv')\n",
        "  st.balloons()\n",
        "  df_json = df.to_json()\n",
        "  st.download_button(\"Download as JSON\", data = df_json, file_name = f\"{hashtag}.json\", mime=\"application/json\")\n",
        "  st.balloons()\n",
        "\n",
        "if st.button(\"Upload data to the database\"):\n",
        "  df = scrap_datas(hashtag, from_date, to_date, limit)\n",
        "  message = update_data(hashtag, df)\n",
        "  st.write(message)\n",
        "  st.balloons()"
      ],
      "metadata": {
        "colab": {
          "base_uri": "https://localhost:8080/"
        },
        "id": "mmkhw-Y-4JbU",
        "outputId": "103176e3-150f-46e1-f920-abaa803860a8"
      },
      "execution_count": 13,
      "outputs": [
        {
          "output_type": "stream",
          "name": "stdout",
          "text": [
            "Writing streamlit_app.py\n"
          ]
        }
      ]
    },
    {
      "cell_type": "code",
      "source": [
        "!streamlit run /content/streamlit_app.py & npx localtunnel --port 8501"
      ],
      "metadata": {
        "colab": {
          "base_uri": "https://localhost:8080/"
        },
        "id": "gvItEQIq8Ffc",
        "outputId": "e266b21c-78b0-44c8-baa1-6f68ac896746"
      },
      "execution_count": null,
      "outputs": [
        {
          "output_type": "stream",
          "name": "stdout",
          "text": [
            "[..................] / rollbackFailedOptional: verb npm-session f0f9cbd73dcad29\u001b[0m\u001b[K\n",
            "Collecting usage statistics. To deactivate, set browser.gatherUsageStats to False.\n",
            "\u001b[0m\n",
            "\u001b[0m\n",
            "\u001b[34m\u001b[1m  You can now view your Streamlit app in your browser.\u001b[0m\n",
            "\u001b[0m\n",
            "\u001b[34m  Network URL: \u001b[0m\u001b[1mhttp://172.28.0.12:8501\u001b[0m\n",
            "\u001b[34m  External URL: \u001b[0m\u001b[1mhttp://34.74.109.212:8501\u001b[0m\n",
            "\u001b[0m\n",
            "\u001b[K\u001b[?25hnpx: installed 22 in 5.541s\n",
            "your url is: https://metal-clubs-poke-34-74-109-212.loca.lt\n"
          ]
        }
      ]
    }
  ]
}